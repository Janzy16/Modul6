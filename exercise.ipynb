{
 "cells": [
  {
   "cell_type": "markdown",
   "id": "3818fe74",
   "metadata": {},
   "source": [
    "<h1>Data Science Tools and Ecosystem<h1>\n"
   ]
  },
  {
   "cell_type": "markdown",
   "id": "6775b360",
   "metadata": {},
   "source": []
  },
  {
   "cell_type": "markdown",
   "id": "8a584678",
   "metadata": {},
   "source": [
    "In this notebook, Data Science Tools and Ecosystem are summarized."
   ]
  },
  {
   "cell_type": "markdown",
   "id": "f7c8f4de",
   "metadata": {},
   "source": [
    "Some of the popular languages that Data Scientists use are: \n",
    "1. R\n",
    "2. Python\n",
    "3. SQL"
   ]
  },
  {
   "cell_type": "markdown",
   "id": "de00a3e6",
   "metadata": {},
   "source": [
    "Some of the commonly used libraries used by Data Scientists\n",
    "1. ggplot\n",
    "2. Pandas\n",
    "3. Numpy"
   ]
  },
  {
   "cell_type": "markdown",
   "id": "4e5d478d",
   "metadata": {},
   "source": [
    "# Data Science Tools\n",
    "\n",
    "<table>\n",
    "<th>Data Science Tools</th>\n",
    "<tr>\n",
    "<th>Jupyter Notebook</th>\n",
    "<th>Rstudio</th>\n",
    "<th>Visual Studio Code</th>\n",
    "</tr>\n",
    "</table>"
   ]
  },
  {
   "cell_type": "markdown",
   "id": "82417b84",
   "metadata": {},
   "source": [
    "<h3>Below are a few examples of evaluating arithmetic expressions in Python<h3>\n",
    "   "
   ]
  },
  {
   "cell_type": "code",
   "execution_count": 5,
   "id": "a2c1f604",
   "metadata": {},
   "outputs": [
    {
     "name": "stdout",
     "output_type": "stream",
     "text": [
      "17\n"
     ]
    }
   ],
   "source": [
    "x = (3*4)+5\n",
    "#This is a simple arithmetic expression to multiply then add integers.\n",
    "print(x)"
   ]
  },
  {
   "cell_type": "code",
   "execution_count": 7,
   "id": "eaf039e1",
   "metadata": {},
   "outputs": [
    {
     "name": "stdout",
     "output_type": "stream",
     "text": [
      "3.3333333333333335\n"
     ]
    }
   ],
   "source": [
    "y = 200/60\n",
    "#This will convert 200 minutes to hours by dividing 60\n",
    "print(y)"
   ]
  },
  {
   "cell_type": "markdown",
   "id": "77b0f05c",
   "metadata": {},
   "source": [
    "<b>Objectives:</b>\n",
    "- List popular languages for Data Science\n",
    "- List commonly libraries used by Data Science\n",
    "- Create table by listing data science tools\n",
    "- Create code to multiple and add numbers"
   ]
  },
  {
   "cell_type": "markdown",
   "id": "0dda715e",
   "metadata": {},
   "source": [
    "<h2>Author</h2>\n",
    "Janice"
   ]
  }
 ],
 "metadata": {
  "kernelspec": {
   "display_name": "Python 3 (ipykernel)",
   "language": "python",
   "name": "python3"
  },
  "language_info": {
   "codemirror_mode": {
    "name": "ipython",
    "version": 3
   },
   "file_extension": ".py",
   "mimetype": "text/x-python",
   "name": "python",
   "nbconvert_exporter": "python",
   "pygments_lexer": "ipython3",
   "version": "3.11.5"
  }
 },
 "nbformat": 4,
 "nbformat_minor": 5
}
